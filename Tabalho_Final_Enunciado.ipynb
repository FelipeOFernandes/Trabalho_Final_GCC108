{
 "cells": [
  {
   "cell_type": "markdown",
   "metadata": {},
   "source": [
    "# Trabalho Final GCC-108 - Teoria da Computação #\n",
    "Prof.: Douglas H. S. Abreu\n",
    "\n",
    "Nome: \n",
    "\n",
    "Turma: 10A, 14A\n",
    "\n",
    "Link do repositório [GitHub](https://github.com/douglashsabreu/Trabalho_Final_GCC108)\n",
    "\n"
   ]
  },
  {
   "cell_type": "raw",
   "metadata": {},
   "source": [
    "●\tO trabalho deve ser feito em grupos de no máximo 2 componentes\n",
    "●\tTrabalhos entregues após a data limite não serão aceitos\n",
    "●\tData limite de entrega: 27 de Abril de 2022 : 23h59m\n",
    "●\tEnviar o trabalho para o email: douglas.abreu@ufla.br (ou campus), do seguinte modo: Notebook em PDF com o link do repositório GitHub incluso. A Documentação deve estar no readme\n",
    "    "
   ]
  },
  {
   "cell_type": "markdown",
   "metadata": {},
   "source": [
    "### Exercício 1) ### \n",
    "Desenvolva uma função que receba um arquivo csv que contém uma MT M descrita por transições, essa MT deve ser limitada a no máximo 10 estados. A função deve converter essa MT em uma representação unária para uma MTU. "
   ]
  },
  {
   "cell_type": "code",
   "execution_count": 1,
   "metadata": {},
   "outputs": [],
   "source": [
    "# função Ex.1 R(M)"
   ]
  },
  {
   "cell_type": "code",
   "execution_count": 2,
   "metadata": {},
   "outputs": [],
   "source": [
    "# bla bla bla"
   ]
  },
  {
   "cell_type": "markdown",
   "metadata": {},
   "source": [
    "### Exercício 2) ### \n",
    "Desenvolva uma função MTU, tal que, essa função recebe uma representação R(M) oriunda da função do Ex. 1 acrescida de uma entrada w. O resultado deve ser a saída da MT M para uma entrada w"
   ]
  },
  {
   "cell_type": "code",
   "execution_count": 5,
   "metadata": {},
   "outputs": [],
   "source": [
    "# função MTU= {R(M)| R(M) aceite w}"
   ]
  },
  {
   "cell_type": "code",
   "execution_count": 6,
   "metadata": {},
   "outputs": [],
   "source": [
    "# bla bla bla"
   ]
  },
  {
   "cell_type": "markdown",
   "metadata": {},
   "source": [
    "### Exercício 3) ###\n",
    "Descreva com suas palavtas"
   ]
  },
  {
   "cell_type": "code",
   "execution_count": null,
   "metadata": {},
   "outputs": [],
   "source": []
  }
 ],
 "metadata": {
  "kernelspec": {
   "display_name": "Python 3",
   "language": "python",
   "name": "python3"
  },
  "language_info": {
   "codemirror_mode": {
    "name": "ipython",
    "version": 3
   },
   "file_extension": ".py",
   "mimetype": "text/x-python",
   "name": "python",
   "nbconvert_exporter": "python",
   "pygments_lexer": "ipython3",
   "version": "3.8.5"
  }
 },
 "nbformat": 4,
 "nbformat_minor": 4
}
